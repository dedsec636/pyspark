{
 "cells": [
  {
   "cell_type": "code",
   "execution_count": 2,
   "id": "d4aed684-7b81-4fc5-81c7-84f4dcc18216",
   "metadata": {},
   "outputs": [
    {
     "name": "stderr",
     "output_type": "stream",
     "text": [
      "23/10/09 10:33:44 WARN Utils: Your hostname, rakhul-G15 resolves to a loopback address: 127.0.1.1; using 192.168.0.155 instead (on interface wlan0)\n",
      "23/10/09 10:33:44 WARN Utils: Set SPARK_LOCAL_IP if you need to bind to another address\n",
      "Setting default log level to \"WARN\".\n",
      "To adjust logging level use sc.setLogLevel(newLevel). For SparkR, use setLogLevel(newLevel).\n",
      "23/10/09 10:33:45 WARN NativeCodeLoader: Unable to load native-hadoop library for your platform... using builtin-java classes where applicable\n",
      "23/10/09 10:33:45 WARN Utils: Service 'SparkUI' could not bind on port 4040. Attempting port 4041.\n"
     ]
    }
   ],
   "source": [
    "from pyspark.sql import SparkSession\n",
    "spark = SparkSession.builder.appName(\"Datacamp Pyspark Tutorial\").config(\"spark.memory.offHeap.enabled\",\"true\").config(\"spark.memory.offHeap.size\",\"10g\").getOrCreate()"
   ]
  },
  {
   "cell_type": "code",
   "execution_count": 3,
   "id": "1e13cf4e-68d6-406a-929b-dc70376f85f3",
   "metadata": {},
   "outputs": [],
   "source": [
    "df = spark.read.csv('sf-fire-calls.csv',header=True,escape=\"\\\"\")"
   ]
  },
  {
   "cell_type": "code",
   "execution_count": 5,
   "id": "7945f825-588b-454b-9d98-103b13ba33a5",
   "metadata": {},
   "outputs": [
    {
     "name": "stderr",
     "output_type": "stream",
     "text": [
      "23/10/09 10:33:56 WARN SparkStringUtils: Truncated the string representation of a plan since it was too large. This behavior can be adjusted by setting 'spark.sql.debug.maxToStringFields'.\n"
     ]
    },
    {
     "data": {
      "text/plain": [
       "Row(CallNumber='20110016', UnitID='T13', IncidentNumber='2003235', CallType='Structure Fire', CallDate='01/11/2002', WatchDate='01/10/2002', CallFinalDisposition='Other', AvailableDtTm='01/11/2002 01:51:44 AM', Address='2000 Block of CALIFORNIA ST', City='SF', Zipcode='94109', Battalion='B04', StationArea='38', Box='3362', OriginalPriority='3', Priority='3', FinalPriority='3', ALSUnit='false', CallTypeGroup=None, NumAlarms='1', UnitType='TRUCK', UnitSequenceInCallDispatch='2', FirePreventionDistrict='4', SupervisorDistrict='5', Neighborhood='Pacific Heights', Location='(37.7895840679362, -122.428071912459)', RowID='020110016-T13', Delay='2.95')"
      ]
     },
     "execution_count": 5,
     "metadata": {},
     "output_type": "execute_result"
    }
   ],
   "source": [
    "df.head()"
   ]
  },
  {
   "cell_type": "code",
   "execution_count": 6,
   "id": "f98b797b",
   "metadata": {},
   "outputs": [],
   "source": [
    "CUSTOMERS_DATA =   'retails_data/customers.csv'\n",
    "DEPARTMENTS_DATA = 'retails_data/departments.csv'\n",
    "CATEGORIES_DATA =  'retails_data/categories.csv'\n",
    "PRODUCTS_DATA =    'retails_data/products.csv'\n",
    "ORDERS_DATA =      'retails_data/orders.csv'\n",
    "ORDER_ITEMS_DATA = 'retails_data/order_items.csv'"
   ]
  },
  {
   "cell_type": "code",
   "execution_count": 7,
   "id": "4735e078",
   "metadata": {},
   "outputs": [],
   "source": [
    "from pyspark.sql.types import *"
   ]
  },
  {
   "cell_type": "code",
   "execution_count": 8,
   "id": "e3982601",
   "metadata": {},
   "outputs": [],
   "source": [
    "# define the schema, corresponding to a line in the csv data file for Customer\n",
    "customers_schema = StructType([\n",
    "    StructField('customer_id',       IntegerType(), nullable=True),\n",
    "    StructField('customer_fname',    StringType(), nullable=True),\n",
    "    StructField('customer_lname',    StringType(), nullable=True),\n",
    "    StructField('customer_email',    StringType(), nullable=True),\n",
    "    StructField('customer_password', StringType(), nullable=True),\n",
    "    StructField('customer_street',   StringType(), nullable=True),\n",
    "    StructField('customer_city',     StringType(), nullable=True),\n",
    "    StructField('customer_state',    StringType(), nullable=True),\n",
    "    StructField('customer_zipcode',  StringType(), nullable=True)])"
   ]
  },
  {
   "cell_type": "code",
   "execution_count": 10,
   "id": "eb7c32b0",
   "metadata": {},
   "outputs": [],
   "source": [
    "products_schema = StructType([\n",
    "    StructField('product_id',          IntegerType(), nullable=True),\n",
    "    StructField('product_category_id', IntegerType(), nullable=True),\n",
    "    StructField('product_name',        StringType(), nullable=True),\n",
    "    StructField('product_description', StringType(), nullable=True),\n",
    "    StructField('product_price',       FloatType(), nullable=True),\n",
    "    StructField('product_image',       StringType(), nullable=True)])\n",
    "\n",
    "departments_schema = StructType([\n",
    "    StructField('department_id',   IntegerType(), nullable=True),\n",
    "    StructField('department_name', StringType(), nullable=True)])\n",
    "\n",
    "categories_schema = StructType([\n",
    "    StructField('category_id',            IntegerType(), nullable=True),\n",
    "    StructField('category_department_id', IntegerType(), nullable=True),\n",
    "    StructField('category_name',          StringType(), nullable=True)])\n",
    "\n",
    "orders_schema = StructType([\n",
    "    StructField('order_id',          IntegerType(), nullable=True),\n",
    "    StructField('order_date',        StringType(), nullable=True),\n",
    "    StructField('order_customer_id', IntegerType(), nullable=True),\n",
    "    StructField('order_status',      StringType(), nullable=True)])\n",
    "\n",
    "order_items_schema = StructType([\n",
    "    StructField('order_item_id',            IntegerType(), nullable=True),\n",
    "    StructField('order_item_order_id',      IntegerType(), nullable=True),\n",
    "    StructField('order_item_product_id',    IntegerType(), nullable=True),\n",
    "    StructField('order_item_quantity',      IntegerType(), nullable=True),\n",
    "    StructField('order_item_subtotal',      FloatType(), nullable=True),\n",
    "    StructField('order_item_product_price', FloatType(), nullable=True)])\n",
    "\n",
    "\n"
   ]
  },
  {
   "cell_type": "code",
   "execution_count": 11,
   "id": "474c93e2",
   "metadata": {},
   "outputs": [
    {
     "data": {
      "text/plain": [
       "DataFrame[order_item_id: int, order_item_order_id: int, order_item_product_id: int, order_item_quantity: int, order_item_subtotal: float, order_item_product_price: float]"
      ]
     },
     "execution_count": 11,
     "metadata": {},
     "output_type": "execute_result"
    }
   ],
   "source": [
    "customers_df = spark.read.csv(path=CUSTOMERS_DATA, schema=customers_schema)\n",
    "customers_df.cache()\n",
    "\n",
    "departments_df = spark.read.csv(path=DEPARTMENTS_DATA, schema=departments_schema)\n",
    "departments_df.cache()\n",
    "\n",
    "categories_df = spark.read.csv(path=CATEGORIES_DATA, schema=categories_schema)\n",
    "categories_df.cache()\n",
    "\n",
    "products_df = spark.read.csv(path=PRODUCTS_DATA, schema=products_schema)\n",
    "products_df.cache()\n",
    "\n",
    "orders_df = spark.read.csv(path=ORDERS_DATA, schema=orders_schema)\n",
    "orders_df.cache()\n",
    "\n",
    "order_items_df = spark.read.csv(path=ORDER_ITEMS_DATA, schema=order_items_schema)\n",
    "order_items_df.cache()"
   ]
  },
  {
   "cell_type": "code",
   "execution_count": 12,
   "id": "64a7c438",
   "metadata": {},
   "outputs": [
    {
     "name": "stdout",
     "output_type": "stream",
     "text": [
      "+-----------+--------------+--------------+--------------+-----------------+--------------------+-------------+--------------+----------------+\n",
      "|customer_id|customer_fname|customer_lname|customer_email|customer_password|     customer_street|customer_city|customer_state|customer_zipcode|\n",
      "+-----------+--------------+--------------+--------------+-----------------+--------------------+-------------+--------------+----------------+\n",
      "|          1|       Richard|     Hernandez|     XXXXXXXXX|        XXXXXXXXX|  6303 Heather Plaza|  Brownsville|            TX|           78521|\n",
      "|          2|          Mary|       Barrett|     XXXXXXXXX|        XXXXXXXXX|9526 Noble Embers...|    Littleton|            CO|           80126|\n",
      "|          3|           Ann|         Smith|     XXXXXXXXX|        XXXXXXXXX|3422 Blue Pioneer...|       Caguas|            PR|           00725|\n",
      "|          4|          Mary|         Jones|     XXXXXXXXX|        XXXXXXXXX|  8324 Little Common|   San Marcos|            CA|           92069|\n",
      "|          5|        Robert|        Hudson|     XXXXXXXXX|        XXXXXXXXX|10 Crystal River ...|       Caguas|            PR|           00725|\n",
      "+-----------+--------------+--------------+--------------+-----------------+--------------------+-------------+--------------+----------------+\n",
      "only showing top 5 rows\n",
      "\n"
     ]
    }
   ],
   "source": [
    "customers_df.show(5)"
   ]
  },
  {
   "cell_type": "markdown",
   "id": "e2a82a93",
   "metadata": {},
   "source": [
    "Creating Temproary views so we can execute queries"
   ]
  },
  {
   "cell_type": "code",
   "execution_count": 17,
   "id": "ae9faa74",
   "metadata": {},
   "outputs": [],
   "source": [
    "customers_df.createOrReplaceTempView(\"customers\")\n",
    "departments_df.createOrReplaceTempView(\"depts\")\n",
    "categories_df.createOrReplaceTempView(\"categories\")\n",
    "products_df.createOrReplaceTempView(\"products\")\n",
    "orders_df.createOrReplaceTempView(\"orders\")\n",
    "order_items_df.createOrReplaceTempView(\"order_items\")\n"
   ]
  },
  {
   "cell_type": "code",
   "execution_count": 18,
   "id": "807e98f9",
   "metadata": {},
   "outputs": [
    {
     "name": "stdout",
     "output_type": "stream",
     "text": [
      "+-------------+-------------------+---------------------+-------------------+-------------------+------------------------+\n",
      "|order_item_id|order_item_order_id|order_item_product_id|order_item_quantity|order_item_subtotal|order_item_product_price|\n",
      "+-------------+-------------------+---------------------+-------------------+-------------------+------------------------+\n",
      "|            1|                  1|                  957|                  1|             299.98|                  299.98|\n",
      "|            2|                  2|                 1073|                  1|             199.99|                  199.99|\n",
      "|            3|                  2|                  502|                  5|              250.0|                    50.0|\n",
      "|            4|                  2|                  403|                  1|             129.99|                  129.99|\n",
      "|            5|                  4|                  897|                  2|              49.98|                   24.99|\n",
      "+-------------+-------------------+---------------------+-------------------+-------------------+------------------------+\n",
      "only showing top 5 rows\n",
      "\n"
     ]
    }
   ],
   "source": [
    "order_items_df.show(5)"
   ]
  },
  {
   "cell_type": "code",
   "execution_count": 21,
   "id": "04d41325",
   "metadata": {},
   "outputs": [
    {
     "name": "stdout",
     "output_type": "stream",
     "text": [
      "+---------------------+-------------------+\n",
      "|order_item_product_id|order_item_subtotal|\n",
      "+---------------------+-------------------+\n",
      "|                  502|              250.0|\n",
      "|                  502|              150.0|\n",
      "|                  502|               50.0|\n",
      "|                  502|              250.0|\n",
      "|                  502|               50.0|\n",
      "|                  502|               50.0|\n",
      "|                  502|              250.0|\n",
      "|                  502|              100.0|\n",
      "|                  502|               50.0|\n",
      "|                  502|              250.0|\n",
      "|                  502|              150.0|\n",
      "|                  502|              100.0|\n",
      "|                  502|              100.0|\n",
      "|                  502|              200.0|\n",
      "|                  502|               50.0|\n",
      "|                  502|               50.0|\n",
      "|                  502|               50.0|\n",
      "|                  502|              150.0|\n",
      "|                  502|               50.0|\n",
      "|                  502|              200.0|\n",
      "+---------------------+-------------------+\n",
      "only showing top 20 rows\n",
      "\n"
     ]
    }
   ],
   "source": [
    "spark.sql(\"select order_item_product_id,order_item_subtotal from order_items where order_item_product_id=502 \").show()"
   ]
  },
  {
   "cell_type": "markdown",
   "id": "bd182121",
   "metadata": {},
   "source": [
    "![Dmark](cloudera-retail-db.png \"test\")"
   ]
  },
  {
   "cell_type": "code",
   "execution_count": 22,
   "id": "77500343",
   "metadata": {},
   "outputs": [
    {
     "name": "stdout",
     "output_type": "stream",
     "text": [
      "+---------------+\n",
      "|count(order_id)|\n",
      "+---------------+\n",
      "|          68883|\n",
      "+---------------+\n",
      "\n"
     ]
    }
   ],
   "source": [
    "spark.sql(\"select count(order_id) from orders\").show()"
   ]
  },
  {
   "cell_type": "code",
   "execution_count": 25,
   "id": "2e7d60bc",
   "metadata": {},
   "outputs": [
    {
     "name": "stdout",
     "output_type": "stream",
     "text": [
      "+--------+------------------------+\n",
      "|order_id|sum(order_item_subtotal)|\n",
      "+--------+------------------------+\n",
      "|     148|      479.99000549316406|\n",
      "|     463|       829.9200096130371|\n",
      "|     471|      169.98000717163086|\n",
      "|     496|        441.950008392334|\n",
      "|    1088|      249.97000885009766|\n",
      "|    1580|      299.95001220703125|\n",
      "|    1591|       439.8599967956543|\n",
      "|    1645|       1509.790023803711|\n",
      "|    2366|       299.9700012207031|\n",
      "|    2659|       724.9100151062012|\n",
      "|    2866|        569.960018157959|\n",
      "|    3175|      209.97000122070312|\n",
      "|    3749|      143.97000122070312|\n",
      "|    3794|      299.95001220703125|\n",
      "|    3918|       829.9300155639648|\n",
      "|    3997|       579.9500122070312|\n",
      "|    4101|      129.99000549316406|\n",
      "|    4519|        79.9800033569336|\n",
      "|    4818|       399.9800109863281|\n",
      "|    4900|       179.9700050354004|\n",
      "+--------+------------------------+\n",
      "only showing top 20 rows\n",
      "\n"
     ]
    }
   ],
   "source": [
    "spark.sql(\"select o.order_id,sum(oi.order_item_subtotal) from orders o join order_items oi on o.order_id = oi.order_item_order_id group by o.order_id\").show()"
   ]
  },
  {
   "cell_type": "code",
   "execution_count": 27,
   "id": "dbec98c3",
   "metadata": {},
   "outputs": [
    {
     "name": "stdout",
     "output_type": "stream",
     "text": [
      "+--------------------+------------------+\n",
      "|          order_date|       revenue_day|\n",
      "+--------------------+------------------+\n",
      "|2013-11-03 00:00:...|175599.20357131958|\n",
      "|2014-02-01 00:00:...| 153561.8030986786|\n",
      "|2013-11-14 00:00:...|149271.96297836304|\n",
      "|2014-06-19 00:00:...|147183.83269500732|\n",
      "|2013-10-13 00:00:...| 145561.9928665161|\n",
      "|2013-12-26 00:00:...| 143012.2326412201|\n",
      "|2013-11-24 00:00:...|142234.02284049988|\n",
      "|2014-02-19 00:00:...| 141857.2528705597|\n",
      "|2013-09-25 00:00:...|141775.64274215698|\n",
      "|2014-07-20 00:00:...| 141499.8028755188|\n",
      "|2013-09-06 00:00:...|140273.12274360657|\n",
      "|2014-06-27 00:00:...|139952.39247322083|\n",
      "|2014-05-16 00:00:...|  139834.472738266|\n",
      "|2014-01-05 00:00:...|138550.94269180298|\n",
      "|2013-09-26 00:00:...|138531.17268943787|\n",
      "|2013-11-05 00:00:...|138528.34267425537|\n",
      "|2013-10-04 00:00:...|138079.62243652344|\n",
      "|2013-09-05 00:00:...|137379.87286186218|\n",
      "|2013-07-29 00:00:...|137287.09244918823|\n",
      "|2014-01-11 00:00:...|137233.93259239197|\n",
      "+--------------------+------------------+\n",
      "only showing top 20 rows\n",
      "\n"
     ]
    }
   ],
   "source": [
    "spark.sql(\"select o.order_date,sum(oi.order_item_subtotal) as revenue_day from orders o join order_items oi on o.order_id = oi.order_item_order_id group by o.order_date order by revenue_day desc\").show()"
   ]
  },
  {
   "cell_type": "code",
   "execution_count": 41,
   "id": "28b29f46",
   "metadata": {},
   "outputs": [
    {
     "data": {
      "text/plain": [
       "DataFrame[order_year: int, order_month: int, tot_revenue: double]"
      ]
     },
     "execution_count": 41,
     "metadata": {},
     "output_type": "execute_result"
    }
   ],
   "source": [
    "import os\n",
    "import pandas as pd\n",
    "import numpy as np\n",
    "\n",
    "from pyspark import SparkConf, SparkContext\n",
    "from pyspark.sql import SparkSession, SQLContext\n",
    "\n",
    "from pyspark.sql.types import *\n",
    "from pyspark.sql.window import Window\n",
    "\n",
    "import pyspark.sql.functions as F\n",
    "from pyspark.sql.functions import udf, col\n",
    "import pyspark.sql.functions as F\n",
    "# Visualization\n",
    "import seaborn as sns\n",
    "import matplotlib.pyplot as plt\n",
    "# Visualization\n",
    "from IPython.core.interactiveshell import InteractiveShell\n",
    "InteractiveShell.ast_node_interactivity = \"all\"\n",
    "\n",
    "pd.set_option('display.max_columns', 50)\n",
    "pd.set_option('display.max_colwidth', 50)\n",
    "\n",
    "sns.set(context='notebook', style='whitegrid', rc={'figure.figsize': (18,4)})\n",
    "#rcParams['figure.figsize'] = 18,4\n",
    "# this allows plots to appear directly in the notebook\n",
    "%matplotlib inline\n",
    "%config InlineBackend.figure_format = 'retina'\n",
    "# this allows plots to appear directly in the notebook\n",
    "%matplotlib inline\n",
    "%config InlineBackend.figure_format = 'retina'\n",
    "\n",
    "tot_rev_per_month_per_year = (orders_df.join(order_items_df, orders_df.order_id == order_items_df.order_item_order_id)\n",
    "     .select([F.year('order_date').alias('order_year'), F.month('order_date').alias('order_month'), 'order_item_subtotal'])\n",
    "     .groupBy(['order_year','order_month'])\n",
    "     .agg(F.sum('order_item_subtotal').alias('tot_revenue'))\n",
    "     .orderBy(F.asc('order_year'),F.asc('order_month')))\n",
    "\n",
    "tot_rev_per_month_per_year.cache()"
   ]
  },
  {
   "cell_type": "code",
   "execution_count": 42,
   "id": "fe5fb474",
   "metadata": {},
   "outputs": [
    {
     "name": "stdout",
     "output_type": "stream",
     "text": [
      "+----------+-----------+------------------+\n",
      "|order_year|order_month|       tot_revenue|\n",
      "+----------+-----------+------------------+\n",
      "|      2013|          7| 764782.2047252655|\n",
      "|      2013|          8| 2828658.754573822|\n",
      "|      2013|          9|2934527.3265972137|\n",
      "|      2013|         10|2624600.6605644226|\n",
      "|      2013|         11|3168656.0921707153|\n",
      "|      2013|         12| 2932964.327445984|\n",
      "|      2014|          1|2924447.0670757294|\n",
      "|      2014|          2|2778663.7149181366|\n",
      "|      2014|          3| 2862492.265932083|\n",
      "|      2014|          4|2807789.8547916412|\n",
      "|      2014|          5|2753078.2738227844|\n",
      "|      2014|          6| 2703463.491306305|\n",
      "|      2014|          7|2238496.5645008087|\n",
      "+----------+-----------+------------------+\n",
      "\n"
     ]
    }
   ],
   "source": [
    "tot_rev_per_month_per_year.show()"
   ]
  },
  {
   "cell_type": "code",
   "execution_count": 43,
   "id": "161b0a0d",
   "metadata": {},
   "outputs": [],
   "source": [
    "pdf=tot_rev_per_month_per_year.toPandas()"
   ]
  },
  {
   "cell_type": "code",
   "execution_count": 44,
   "id": "c3c3de7c",
   "metadata": {},
   "outputs": [
    {
     "data": {
      "text/plain": [
       "Text(0.5, 1.0, 'Total revenue Per Year Monthwise')"
      ]
     },
     "execution_count": 44,
     "metadata": {},
     "output_type": "execute_result"
    },
    {
     "data": {
      "image/png": "[encoded data removed]",
      "text/plain": [
       "<Figure size 1800x400 with 1 Axes>"
      ]
     },
     "metadata": {
      "image/png": {
       "height": 399,
       "width": 1474
      }
     },
     "output_type": "display_data"
    }
   ],
   "source": [
    "g=sns.barplot(x='order_month',y='tot_revenue',hue='order_year',data=pdf)\n",
    "g.set_title('Total revenue Per Year Monthwise')"
   ]
  },
  {
   "cell_type": "code",
   "execution_count": null,
   "id": "610af284",
   "metadata": {},
   "outputs": [],
   "source": []
  }
 ],
 "metadata": {
  "kernelspec": {
   "display_name": "pyspark-Vq-m6yr1",
   "language": "python",
   "name": "python3"
  },
  "language_info": {
   "codemirror_mode": {
    "name": "ipython",
    "version": 3
   },
   "file_extension": ".py",
   "mimetype": "text/x-python",
   "name": "python",
   "nbconvert_exporter": "python",
   "pygments_lexer": "ipython3",
   "version": "3.11.5"
  }
 },
 "nbformat": 4,
 "nbformat_minor": 5
}
